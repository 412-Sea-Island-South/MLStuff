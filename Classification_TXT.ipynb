{
  "nbformat": 4,
  "nbformat_minor": 0,
  "metadata": {
    "colab": {
      "name": "Classification_TXT.ipynb",
      "provenance": [],
      "authorship_tag": "ABX9TyN6RsK7BZlmTZQ1nHvXAWwM",
      "include_colab_link": true
    },
    "kernelspec": {
      "name": "python3",
      "display_name": "Python 3"
    },
    "language_info": {
      "name": "python"
    }
  },
  "cells": [
    {
      "cell_type": "markdown",
      "metadata": {
        "id": "view-in-github",
        "colab_type": "text"
      },
      "source": [
        "<a href=\"https://colab.research.google.com/github/WontonSoup914/MLStuff/blob/main/Classification_TXT.ipynb\" target=\"_parent\"><img src=\"https://colab.research.google.com/assets/colab-badge.svg\" alt=\"Open In Colab\"/></a>"
      ]
    },
    {
      "cell_type": "markdown",
      "metadata": {
        "id": "QyZWBoW6Tq0R"
      },
      "source": [
        "# Imports + Version Control"
      ]
    },
    {
      "cell_type": "code",
      "metadata": {
        "id": "daSKC_UCToDT"
      },
      "source": [
        "import matplotlib.pyplot as plt\n",
        "import os\n",
        "import re\n",
        "import shutil\n",
        "import string\n",
        "import tensorflow as tf\n",
        "\n",
        "from tensorflow.keras import layers\n",
        "from tensorflow.keras import losses\n",
        "from tensorflow.keras import preprocessing"
      ],
      "execution_count": 1,
      "outputs": []
    },
    {
      "cell_type": "code",
      "metadata": {
        "colab": {
          "base_uri": "https://localhost:8080/"
        },
        "id": "FtsCaD9BTxTd",
        "outputId": "35d7fb53-d32e-4b26-b9a5-076d0513801f"
      },
      "source": [
        "print(tf.__version__)"
      ],
      "execution_count": 2,
      "outputs": [
        {
          "output_type": "stream",
          "name": "stdout",
          "text": [
            "2.6.0\n"
          ]
        }
      ]
    },
    {
      "cell_type": "markdown",
      "metadata": {
        "id": "nbn3-pbXT1Dd"
      },
      "source": [
        "# Sentiment Analysis"
      ]
    },
    {
      "cell_type": "code",
      "metadata": {
        "colab": {
          "base_uri": "https://localhost:8080/"
        },
        "id": "U-CQbK2eT4Zx",
        "outputId": "6348935e-ee4b-4056-f852-be48a8576203"
      },
      "source": [
        "url = \"https://ai.stanford.edu/~amaas/data/sentiment/aclImdb_v1.tar.gz\"\n",
        "dataset = tf.keras.utils.get_file(\"aclImdb_v1\", url, untar=True, cache_dir='.', cache_subdir='')\n",
        "dataset_dir = os.path.join(os.path.dirname(dataset), 'aclImdb')"
      ],
      "execution_count": 3,
      "outputs": [
        {
          "output_type": "stream",
          "name": "stdout",
          "text": [
            "Downloading data from https://ai.stanford.edu/~amaas/data/sentiment/aclImdb_v1.tar.gz\n",
            "84131840/84125825 [==============================] - 25s 0us/step\n",
            "84140032/84125825 [==============================] - 25s 0us/step\n"
          ]
        }
      ]
    },
    {
      "cell_type": "code",
      "metadata": {
        "colab": {
          "base_uri": "https://localhost:8080/"
        },
        "id": "ztvpVhxTT6VE",
        "outputId": "796e2e1a-5f49-4fa0-8e78-0bb922e2c9e7"
      },
      "source": [
        "os.listdir(dataset_dir)\n",
        "train_dir = os.path.join(dataset_dir, 'train')\n",
        "os.listdir(train_dir)"
      ],
      "execution_count": 4,
      "outputs": [
        {
          "output_type": "execute_result",
          "data": {
            "text/plain": [
              "['unsupBow.feat',\n",
              " 'urls_unsup.txt',\n",
              " 'neg',\n",
              " 'urls_neg.txt',\n",
              " 'urls_pos.txt',\n",
              " 'unsup',\n",
              " 'labeledBow.feat',\n",
              " 'pos']"
            ]
          },
          "metadata": {},
          "execution_count": 4
        }
      ]
    },
    {
      "cell_type": "code",
      "metadata": {
        "colab": {
          "base_uri": "https://localhost:8080/"
        },
        "id": "YHtnNQ0aUBmG",
        "outputId": "cc97178b-d91e-4140-e482-db1c9ec04c0e"
      },
      "source": [
        "sample_file = os.path.join(train_dir, 'pos/1181_9.txt')\n",
        "with open(sample_file) as f:\n",
        "  print(f.read())"
      ],
      "execution_count": 8,
      "outputs": [
        {
          "output_type": "stream",
          "name": "stdout",
          "text": [
            "Rachel Griffiths writes and directs this award winning short film. A heartwarming story about coping with grief and cherishing the memory of those we've loved and lost. Although, only 15 minutes long, Griffiths manages to capture so much emotion and truth onto film in the short space of time. Bud Tingwell gives a touching performance as Will, a widower struggling to cope with his wife's death. Will is confronted by the harsh reality of loneliness and helplessness as he proceeds to take care of Ruth's pet cow, Tulip. The film displays the grief and responsibility one feels for those they have loved and lost. Good cinematography, great direction, and superbly acted. It will bring tears to all those who have lost a loved one, and survived.\n"
          ]
        }
      ]
    },
    {
      "cell_type": "markdown",
      "metadata": {
        "id": "KZhgUHdNUVbv"
      },
      "source": [
        "**Load Dataset**"
      ]
    },
    {
      "cell_type": "code",
      "metadata": {
        "id": "Lz8h1dxcUNry"
      },
      "source": [
        "\"\"\"main_directory/\n",
        "...class_a/\n",
        "......a_text_1.txt\n",
        "......a_text_2.txt\n",
        "...class_b/\n",
        "......b_text_1.txt\n",
        "......b_text_2.txt\"\"\"\n",
        "\n",
        "remove_dir = os.path.join(train_dir, 'unsup')\n",
        "shutil.rmtree(remove_dir)"
      ],
      "execution_count": 10,
      "outputs": []
    },
    {
      "cell_type": "code",
      "metadata": {
        "colab": {
          "base_uri": "https://localhost:8080/"
        },
        "id": "HeBSj_DeUXeI",
        "outputId": "46cf1fae-e17e-438f-d5fe-8df4ffeb1c3f"
      },
      "source": [
        "batch_size = 32\n",
        "seed = 69420\n",
        "\n",
        "raw_train_ds = tf.keras.preprocessing.text_dataset_from_directory(\n",
        "    'aclImdb/train', \n",
        "    batch_size=batch_size, \n",
        "    validation_split=0.2, \n",
        "    subset='training', \n",
        "    seed=seed)"
      ],
      "execution_count": 11,
      "outputs": [
        {
          "output_type": "stream",
          "name": "stdout",
          "text": [
            "Found 25000 files belonging to 2 classes.\n",
            "Using 20000 files for training.\n"
          ]
        }
      ]
    },
    {
      "cell_type": "code",
      "metadata": {
        "colab": {
          "base_uri": "https://localhost:8080/"
        },
        "id": "V0BGzzLaUhiC",
        "outputId": "5c7df8bf-498c-4042-e00a-31ea663d2c78"
      },
      "source": [
        "for text_batch, label_batch in raw_train_ds.take(1):\n",
        "  for i in range(4):\n",
        "    print(\"Review\", text_batch.numpy()[i])\n",
        "    print(\"Label\", label_batch.numpy()[i])\n",
        "    print()"
      ],
      "execution_count": 12,
      "outputs": [
        {
          "output_type": "stream",
          "name": "stdout",
          "text": [
            "Review b\"IVAN (Marco Ricca) and GILBERTO (Alexandre Borges) are partners in a company together with ESTEV\\xc3\\x83O (George Freire), but the first ones contract a professional killer, ANISIO, to murder ESTEV\\xc3\\x83O (the plot, at least at the beginning, doesn't explain very well why). The guy does it and after receiving his money he starts blackmailing the two partners, appearing in their company and saying he wants a job there (as supervisor or something\\xc2\\x85). At the same time he meets MARINA (Mariana Ximenes), daughter of ESTEV\\xc3\\x83O, and starts dating with her! <br /><br />In a story like this, where crime, corruption, betrayal and blackmail go hand in hand, no one is innocent or can be victimized, exception made to MARINA, which is the only person who doesn't know what's going on and didn't betray anyone\\xc2\\x85 <br /><br />This film portrays with sarcasm the sad and cruel reality which exists in big metropolis like S\\xc3\\xa3o Paulo, where crime is every day's presence. We can feel irony but also veracity in characters like ANISIO (brilliantly played by Paulo Miklos), which does blackmail to the guys who paid him without any scruples, and even flirts with the daughter of the guy he killed! He really must be a monster to do something like that, but of course I know there're people like him out there, in Brazil or any other place\\xc2\\x85 <br /><br />It's a very good movie, cruel but truthful, about a sad reality\\xc2\\x85 The acting is great and the soundtrack too.\"\n",
            "Label 1\n",
            "\n",
            "Review b\"How did I ever appreciate this dud of a sequel? All it does is throw balls! Worst of all, it doesn't compare to even the first installment of the series! The comedy suffers from not being funny. Where did all the unintentional laughter go? Enough slapstick on-the-field action goes on too long. Bob Uecker literally saved this one from a complete nine-inning shutout. What's next, MAJOR LEAGUE 4: RETURN TO THE LITTLE LEAGUE? Ehh, could be! Leave this one on the shelf and plan a trip to the All-Star Game. This one's had three strikes too many.\"\n",
            "Label 0\n",
            "\n",
            "Review b\"The Ruth Snyder - Judd Gray murder in 1927 inspired Ogden Nash to write a Broadway play called Machinal. More famously, it inspired James M. Cain to write two short novels which anyone who has actually reached the point where they are reading this review would be familiar with - Double Indemnity and The Postman Always Rings Twice. Both became film noir classics of the 1940's, Double Indemnity being arguably the most perfect noir ever made. Some of the real-life elements of the Snyder-Gray story were captured by Cain - the old age and indifference of Albert Gray, Ruth's high sex drive, Ruth and Judd's passionate affair and complicity in the murder and that famous double indemnity insurance clause. Missing elements included the fact that the actual setting was a very urban Manhattan - Albert Snyder being a respected newspaper editor. The numerous incompetent and failed attempts were also ignored in order to cut to the chase.<br /><br />Cain's Double Indemnity was filmed perfectly by Billy Wilder - let's ignore Stanwyck's ridiculous wig as one of those interesting accidents of film lore! The Postman Always Rings Twice, however, was filmed thrice and Ossessione, an Italian version and Luchino Visconti's first film, was the first of three versions. Before commenting on it, I'll recommend the Lana Turner - John Garfield version of 1946 in its entirety and five minutes of the 1981 Jack Nicholson - Jessica Lange version for the great sex scene on the dining table.<br /><br />Ossessione is not as noirish as The Postman Always Rings Twice. It has a strong neo-realist look which makes it a great movie, but a lot of the essential noir elements are missing. It does not have low-key lighting and unconventional camera angles. The dialog is not hard-boiled and instead the film concentrates more on characterization. This is the longest version of the story and goes deeply into characterization. Its also a lot more sexual than the Lana Turner version. We have a very obvious adulterous relationship and Giovanna is very obviously a nymphomaniac. A new character is introduced into the story - La Spagnola - with very obvious homosexual overtones. There is also a small, but very well-played role for a dancer who moonlights as a prostitute.<br /><br />This is a far greater study of the working class than of crime. The audience really gets the feeling of poverty and grime. The drifter is a complete tramp, the wife is no Lana Turner and may even have been a prostitute before marriage. Her husband is an obscene capitalist - obese, rude and arrogant. I think the casting was brilliant for this film. My only beef is with the overlong running time. Everything is drawn out too long and it would have been more effective if it had been more economical. Nevertheless, fans of noir and realism will definitely like Ossessione, as I did.\"\n",
            "Label 1\n",
            "\n",
            "Review b\"During a Kurt Weill celebration in Brooklyn, WHERE DO WE GO FROM HERE? was finally unearthed for a screening. It is amazing that a motion picture, from any era, that has Weill-Gershwin collaborations can possibly be missing from the screens. The score stands tall, and a CD of the material, with Gershwin and Weill, only underscores its merits, which are considerable. Yes, the film has its problems, but the score is not one of them. Ratoff is not in his element as the director of this musical fantasy, and Fred MacMurray cannot quite grasp the material. Then, too, the 'modern' segment is weakly written. BUT the fantasy elements carry the film to a high mark, as does the work of the two delightful leading ladies - Joan Leslie and June Haver. Both have the charm that this kind of work desperately needs to work. As a World War II salute to our country's history - albeit in a 'never was' framework, the film has its place in Hollywood musical history and should be available for all to see and to find its considerable merits.\"\n",
            "Label 1\n",
            "\n"
          ]
        }
      ]
    },
    {
      "cell_type": "code",
      "metadata": {
        "colab": {
          "base_uri": "https://localhost:8080/"
        },
        "id": "fwFh2JkRUpuQ",
        "outputId": "bc261892-a5d8-4e59-965e-ddf25e47871c"
      },
      "source": [
        "print(\"Label 0 corresponds to\", raw_train_ds.class_names[0])\n",
        "print(\"Label 1 corresponds to\", raw_train_ds.class_names[1])"
      ],
      "execution_count": 13,
      "outputs": [
        {
          "output_type": "stream",
          "name": "stdout",
          "text": [
            "Label 0 corresponds to neg\n",
            "Label 1 corresponds to pos\n"
          ]
        }
      ]
    },
    {
      "cell_type": "code",
      "metadata": {
        "colab": {
          "base_uri": "https://localhost:8080/"
        },
        "id": "3O9LFwaGUurx",
        "outputId": "809bab05-4884-49d2-dbb2-3ff66c54ed1d"
      },
      "source": [
        "raw_val_ds = tf.keras.preprocessing.text_dataset_from_directory(\n",
        "    'aclImdb/train', \n",
        "    batch_size=batch_size, \n",
        "    validation_split=0.25, \n",
        "    subset='validation', \n",
        "    seed=seed)"
      ],
      "execution_count": 14,
      "outputs": [
        {
          "output_type": "stream",
          "name": "stdout",
          "text": [
            "Found 25000 files belonging to 2 classes.\n",
            "Using 6250 files for validation.\n"
          ]
        }
      ]
    },
    {
      "cell_type": "code",
      "metadata": {
        "colab": {
          "base_uri": "https://localhost:8080/"
        },
        "id": "o2iPEnfRUyaO",
        "outputId": "47fd0f98-b239-4ba1-916f-68ba74588cba"
      },
      "source": [
        "raw_test_ds = tf.keras.preprocessing.text_dataset_from_directory(\n",
        "    'aclImdb/test', \n",
        "    batch_size=batch_size)"
      ],
      "execution_count": 15,
      "outputs": [
        {
          "output_type": "stream",
          "name": "stdout",
          "text": [
            "Found 25000 files belonging to 2 classes.\n"
          ]
        }
      ]
    },
    {
      "cell_type": "markdown",
      "metadata": {
        "id": "kwLqL67aU3FN"
      },
      "source": [
        "**Prepare Dataset for Training**"
      ]
    },
    {
      "cell_type": "code",
      "metadata": {
        "id": "z_TwetRZU1Jl"
      },
      "source": [
        "def custom_standardization(input_data):\n",
        "  lowercase = tf.strings.lower(input_data)\n",
        "  stripped_html = tf.strings.regex_replace(lowercase, '<br />', ' ')\n",
        "  return tf.strings.regex_replace(stripped_html,\n",
        "                                  '[%s]' % re.escape(string.punctuation),\n",
        "                                  '')"
      ],
      "execution_count": 16,
      "outputs": []
    },
    {
      "cell_type": "code",
      "metadata": {
        "id": "ALgi-1pqU5--"
      },
      "source": [
        "max_features = 10000\n",
        "sequence_length = 250\n",
        "\n",
        "vectorize_layer = layers.TextVectorization(\n",
        "    standardize=custom_standardization,\n",
        "    max_tokens=max_features,\n",
        "    output_mode='int',\n",
        "    output_sequence_length=sequence_length)"
      ],
      "execution_count": 17,
      "outputs": []
    },
    {
      "cell_type": "code",
      "metadata": {
        "id": "UdoGf0VkU8E_"
      },
      "source": [
        "# Make a text-only dataset (without labels), then call adapt\n",
        "train_text = raw_train_ds.map(lambda x, y: x)\n",
        "vectorize_layer.adapt(train_text)"
      ],
      "execution_count": 18,
      "outputs": []
    },
    {
      "cell_type": "code",
      "metadata": {
        "id": "BoIW879rU-vi"
      },
      "source": [
        "def vectorize_text(text, label):\n",
        "  text = tf.expand_dims(text, -1)\n",
        "  return vectorize_layer(text), label"
      ],
      "execution_count": 19,
      "outputs": []
    },
    {
      "cell_type": "code",
      "metadata": {
        "colab": {
          "base_uri": "https://localhost:8080/"
        },
        "id": "7tJP4dWHU_e4",
        "outputId": "1f360ef2-a157-4060-a8ce-f68c236b9067"
      },
      "source": [
        "# retrieve a batch (of 32 reviews and labels) from the dataset\n",
        "text_batch, label_batch = next(iter(raw_train_ds))\n",
        "first_review, first_label = text_batch[0], label_batch[0]\n",
        "print(\"Review\", first_review)\n",
        "print(\"Label\", raw_train_ds.class_names[first_label])\n",
        "print(\"Vectorized review\", vectorize_text(first_review, first_label))"
      ],
      "execution_count": 20,
      "outputs": [
        {
          "output_type": "stream",
          "name": "stdout",
          "text": [
            "Review tf.Tensor(b\"The Ladies Man is a funny movie. There's not much thought behind it, but what do you expect from an SNL movie? It's actually better than most SNL movies (i.e. Superstar or A Night At The Roxbury) Tim Meadows and Will Ferrell were both very funny. Chris Parnell was also funny in his short scene (one of the funnier ones in the movie). Other than that, the rest of the cast is average and is just there to support Meadows. I've definitely seen funnier movies, but I've seen dumber ones too. Again, it's not exactly a deep movie, but it's good for a few laughs. It was funnier as a skit though. But still, if you're looking for a pretty funny movie, I'd recommend this one. Just don't think about it too much, or you'll hate it.<br /><br />Rating: 6/10\", shape=(), dtype=string)\n",
            "Label neg\n",
            "Vectorized review (<tf.Tensor: shape=(1, 250), dtype=int64, numpy=\n",
            "array([[   2, 1728,  135,    7,    4,  160,   17,  221,   21,   72,  197,\n",
            "         491,    9,   18,   48,   82,   22,  525,   36,   33, 4216,   17,\n",
            "          29,  156,  122,   71,   88, 4216,   92, 1775, 8806,   41,    4,\n",
            "         309,   31,    2,    1, 1654, 7788,    3,   76, 7520,   67,  190,\n",
            "          52,  160, 1263,    1,   13,   77,  160,    8,   24,  348,  131,\n",
            "          28,    5,    2, 2777,  516,    8,    2,   17,   81,   71,   12,\n",
            "           2,  351,    5,    2,  173,    7,  857,    3,    7,   40,   47,\n",
            "           6, 1416, 7788,  196,  395,  107, 2777,   92,   18,  196,  107,\n",
            "        6542,  516,   98,  165,   29,   21,  603,    4,  919,   17,   18,\n",
            "          29,   49,   15,    4,  163,  946,    9,   13, 2777,   14,    4,\n",
            "        5733,  150,   18,  124,   45,  321,  278,   15,    4,  179,  160,\n",
            "          17,  440,  383,   11,   28,   40,   89,  102,   42,    9,   98,\n",
            "          72,   41,  490,  765,    9,  678,    1,    0,    0,    0,    0,\n",
            "           0,    0,    0,    0,    0,    0,    0,    0,    0,    0,    0,\n",
            "           0,    0,    0,    0,    0,    0,    0,    0,    0,    0,    0,\n",
            "           0,    0,    0,    0,    0,    0,    0,    0,    0,    0,    0,\n",
            "           0,    0,    0,    0,    0,    0,    0,    0,    0,    0,    0,\n",
            "           0,    0,    0,    0,    0,    0,    0,    0,    0,    0,    0,\n",
            "           0,    0,    0,    0,    0,    0,    0,    0,    0,    0,    0,\n",
            "           0,    0,    0,    0,    0,    0,    0,    0,    0,    0,    0,\n",
            "           0,    0,    0,    0,    0,    0,    0,    0,    0,    0,    0,\n",
            "           0,    0,    0,    0,    0,    0,    0,    0,    0,    0,    0,\n",
            "           0,    0,    0,    0,    0,    0,    0,    0]])>, <tf.Tensor: shape=(), dtype=int32, numpy=0>)\n"
          ]
        }
      ]
    },
    {
      "cell_type": "code",
      "metadata": {
        "colab": {
          "base_uri": "https://localhost:8080/"
        },
        "id": "x66RXMkIVAn-",
        "outputId": "a331fbab-aafc-4408-bd92-f11ce9c8e94b"
      },
      "source": [
        "print(\"1287 ---> \",vectorize_layer.get_vocabulary()[1287])\n",
        "print(\" 313 ---> \",vectorize_layer.get_vocabulary()[313])\n",
        "print('Vocabulary size: {}'.format(len(vectorize_layer.get_vocabulary())))"
      ],
      "execution_count": 21,
      "outputs": [
        {
          "output_type": "stream",
          "name": "stdout",
          "text": [
            "1287 --->  historical\n",
            " 313 --->  excellent\n",
            "Vocabulary size: 10000\n"
          ]
        }
      ]
    },
    {
      "cell_type": "code",
      "metadata": {
        "id": "-EpIHIPwVDd3"
      },
      "source": [
        "train_ds = raw_train_ds.map(vectorize_text)\n",
        "val_ds = raw_val_ds.map(vectorize_text)\n",
        "test_ds = raw_test_ds.map(vectorize_text)"
      ],
      "execution_count": 22,
      "outputs": []
    },
    {
      "cell_type": "markdown",
      "metadata": {
        "id": "4gg-g8zwVIEf"
      },
      "source": [
        "**Configure for Performance**"
      ]
    },
    {
      "cell_type": "code",
      "metadata": {
        "id": "M7gq-1q2VJoO"
      },
      "source": [
        "AUTOTUNE = tf.data.AUTOTUNE\n",
        "\n",
        "train_ds = train_ds.cache().prefetch(buffer_size=AUTOTUNE)\n",
        "val_ds = val_ds.cache().prefetch(buffer_size=AUTOTUNE)\n",
        "test_ds = test_ds.cache().prefetch(buffer_size=AUTOTUNE)"
      ],
      "execution_count": 23,
      "outputs": []
    },
    {
      "cell_type": "markdown",
      "metadata": {
        "id": "PFzu7xyeVMWb"
      },
      "source": [
        "**Create Model**"
      ]
    },
    {
      "cell_type": "code",
      "metadata": {
        "colab": {
          "base_uri": "https://localhost:8080/"
        },
        "id": "_6UzVVwCVJ1B",
        "outputId": "35b2e0b7-778c-4047-a19a-fe0b80bc7b70"
      },
      "source": [
        "embedding_dim = 16\n",
        "model = tf.keras.Sequential([\n",
        "  layers.Embedding(max_features + 1, embedding_dim),\n",
        "  layers.Dropout(0.2),\n",
        "  layers.GlobalAveragePooling1D(),\n",
        "  layers.Dropout(0.2),\n",
        "  layers.Dense(1)])\n",
        "\n",
        "model.summary()"
      ],
      "execution_count": 24,
      "outputs": [
        {
          "output_type": "stream",
          "name": "stdout",
          "text": [
            "Model: \"sequential\"\n",
            "_________________________________________________________________\n",
            "Layer (type)                 Output Shape              Param #   \n",
            "=================================================================\n",
            "embedding (Embedding)        (None, None, 16)          160016    \n",
            "_________________________________________________________________\n",
            "dropout (Dropout)            (None, None, 16)          0         \n",
            "_________________________________________________________________\n",
            "global_average_pooling1d (Gl (None, 16)                0         \n",
            "_________________________________________________________________\n",
            "dropout_1 (Dropout)          (None, 16)                0         \n",
            "_________________________________________________________________\n",
            "dense (Dense)                (None, 1)                 17        \n",
            "=================================================================\n",
            "Total params: 160,033\n",
            "Trainable params: 160,033\n",
            "Non-trainable params: 0\n",
            "_________________________________________________________________\n"
          ]
        }
      ]
    },
    {
      "cell_type": "code",
      "metadata": {
        "id": "YOQvmteeVRnC"
      },
      "source": [
        "model.compile(loss=losses.BinaryCrossentropy(from_logits=True),\n",
        "              optimizer='adam',\n",
        "              metrics=tf.metrics.BinaryAccuracy(threshold=0.0))"
      ],
      "execution_count": 25,
      "outputs": []
    },
    {
      "cell_type": "markdown",
      "metadata": {
        "id": "AGV_NFyLVWLU"
      },
      "source": [
        "**Train Model**"
      ]
    },
    {
      "cell_type": "code",
      "metadata": {
        "colab": {
          "base_uri": "https://localhost:8080/"
        },
        "id": "8Bs-i52lVVNf",
        "outputId": "01f6ec21-d22e-4071-9666-0fc321c0261b"
      },
      "source": [
        "epochs = 69\n",
        "history = model.fit(\n",
        "    train_ds,\n",
        "    validation_data=val_ds,\n",
        "    epochs=epochs)"
      ],
      "execution_count": 26,
      "outputs": [
        {
          "output_type": "stream",
          "name": "stdout",
          "text": [
            "Epoch 1/69\n",
            "625/625 [==============================] - 12s 18ms/step - loss: 0.6642 - binary_accuracy: 0.6921 - val_loss: 0.6124 - val_binary_accuracy: 0.7758\n",
            "Epoch 2/69\n",
            "625/625 [==============================] - 4s 7ms/step - loss: 0.5479 - binary_accuracy: 0.8028 - val_loss: 0.4926 - val_binary_accuracy: 0.8296\n",
            "Epoch 3/69\n",
            "625/625 [==============================] - 4s 7ms/step - loss: 0.4430 - binary_accuracy: 0.8453 - val_loss: 0.4137 - val_binary_accuracy: 0.8549\n",
            "Epoch 4/69\n",
            "625/625 [==============================] - 4s 7ms/step - loss: 0.3770 - binary_accuracy: 0.8674 - val_loss: 0.3678 - val_binary_accuracy: 0.8635\n",
            "Epoch 5/69\n",
            "625/625 [==============================] - 4s 7ms/step - loss: 0.3334 - binary_accuracy: 0.8806 - val_loss: 0.3391 - val_binary_accuracy: 0.8704\n",
            "Epoch 6/69\n",
            "625/625 [==============================] - 4s 7ms/step - loss: 0.3024 - binary_accuracy: 0.8896 - val_loss: 0.3199 - val_binary_accuracy: 0.8725\n",
            "Epoch 7/69\n",
            "625/625 [==============================] - 5s 7ms/step - loss: 0.2793 - binary_accuracy: 0.8993 - val_loss: 0.3062 - val_binary_accuracy: 0.8774\n",
            "Epoch 8/69\n",
            "625/625 [==============================] - 4s 7ms/step - loss: 0.2590 - binary_accuracy: 0.9058 - val_loss: 0.2962 - val_binary_accuracy: 0.8805\n",
            "Epoch 9/69\n",
            "625/625 [==============================] - 4s 7ms/step - loss: 0.2430 - binary_accuracy: 0.9112 - val_loss: 0.2887 - val_binary_accuracy: 0.8829\n",
            "Epoch 10/69\n",
            "625/625 [==============================] - 5s 7ms/step - loss: 0.2283 - binary_accuracy: 0.9173 - val_loss: 0.2827 - val_binary_accuracy: 0.8861\n",
            "Epoch 11/69\n",
            "625/625 [==============================] - 4s 7ms/step - loss: 0.2158 - binary_accuracy: 0.9235 - val_loss: 0.2786 - val_binary_accuracy: 0.8878\n",
            "Epoch 12/69\n",
            "625/625 [==============================] - 5s 7ms/step - loss: 0.2029 - binary_accuracy: 0.9274 - val_loss: 0.2755 - val_binary_accuracy: 0.8890\n",
            "Epoch 13/69\n",
            "625/625 [==============================] - 5s 7ms/step - loss: 0.1932 - binary_accuracy: 0.9309 - val_loss: 0.2731 - val_binary_accuracy: 0.8902\n",
            "Epoch 14/69\n",
            "625/625 [==============================] - 5s 7ms/step - loss: 0.1845 - binary_accuracy: 0.9355 - val_loss: 0.2719 - val_binary_accuracy: 0.8904\n",
            "Epoch 15/69\n",
            "625/625 [==============================] - 4s 7ms/step - loss: 0.1749 - binary_accuracy: 0.9390 - val_loss: 0.2713 - val_binary_accuracy: 0.8907\n",
            "Epoch 16/69\n",
            "625/625 [==============================] - 5s 7ms/step - loss: 0.1652 - binary_accuracy: 0.9433 - val_loss: 0.2714 - val_binary_accuracy: 0.8922\n",
            "Epoch 17/69\n",
            "625/625 [==============================] - 4s 7ms/step - loss: 0.1585 - binary_accuracy: 0.9453 - val_loss: 0.2722 - val_binary_accuracy: 0.8930\n",
            "Epoch 18/69\n",
            "625/625 [==============================] - 4s 7ms/step - loss: 0.1508 - binary_accuracy: 0.9495 - val_loss: 0.2732 - val_binary_accuracy: 0.8931\n",
            "Epoch 19/69\n",
            "625/625 [==============================] - 4s 7ms/step - loss: 0.1443 - binary_accuracy: 0.9527 - val_loss: 0.2750 - val_binary_accuracy: 0.8938\n",
            "Epoch 20/69\n",
            "625/625 [==============================] - 4s 6ms/step - loss: 0.1374 - binary_accuracy: 0.9547 - val_loss: 0.2772 - val_binary_accuracy: 0.8936\n",
            "Epoch 21/69\n",
            "625/625 [==============================] - 4s 7ms/step - loss: 0.1314 - binary_accuracy: 0.9564 - val_loss: 0.2799 - val_binary_accuracy: 0.8926\n",
            "Epoch 22/69\n",
            "625/625 [==============================] - 4s 7ms/step - loss: 0.1252 - binary_accuracy: 0.9594 - val_loss: 0.2827 - val_binary_accuracy: 0.8941\n",
            "Epoch 23/69\n",
            "625/625 [==============================] - 4s 7ms/step - loss: 0.1190 - binary_accuracy: 0.9621 - val_loss: 0.2870 - val_binary_accuracy: 0.8934\n",
            "Epoch 24/69\n",
            "625/625 [==============================] - 4s 7ms/step - loss: 0.1138 - binary_accuracy: 0.9645 - val_loss: 0.2912 - val_binary_accuracy: 0.8950\n",
            "Epoch 25/69\n",
            "625/625 [==============================] - 4s 7ms/step - loss: 0.1102 - binary_accuracy: 0.9649 - val_loss: 0.2949 - val_binary_accuracy: 0.8934\n",
            "Epoch 26/69\n",
            "625/625 [==============================] - 4s 7ms/step - loss: 0.1044 - binary_accuracy: 0.9681 - val_loss: 0.2996 - val_binary_accuracy: 0.8926\n",
            "Epoch 27/69\n",
            "625/625 [==============================] - 4s 7ms/step - loss: 0.0997 - binary_accuracy: 0.9703 - val_loss: 0.3041 - val_binary_accuracy: 0.8922\n",
            "Epoch 28/69\n",
            "625/625 [==============================] - 4s 7ms/step - loss: 0.0955 - binary_accuracy: 0.9706 - val_loss: 0.3095 - val_binary_accuracy: 0.8909\n",
            "Epoch 29/69\n",
            "625/625 [==============================] - 4s 7ms/step - loss: 0.0910 - binary_accuracy: 0.9733 - val_loss: 0.3171 - val_binary_accuracy: 0.8915\n",
            "Epoch 30/69\n",
            "625/625 [==============================] - 4s 7ms/step - loss: 0.0871 - binary_accuracy: 0.9747 - val_loss: 0.3215 - val_binary_accuracy: 0.8914\n",
            "Epoch 31/69\n",
            "625/625 [==============================] - 5s 8ms/step - loss: 0.0828 - binary_accuracy: 0.9760 - val_loss: 0.3286 - val_binary_accuracy: 0.8928\n",
            "Epoch 32/69\n",
            "625/625 [==============================] - 5s 7ms/step - loss: 0.0792 - binary_accuracy: 0.9771 - val_loss: 0.3332 - val_binary_accuracy: 0.8914\n",
            "Epoch 33/69\n",
            "625/625 [==============================] - 5s 7ms/step - loss: 0.0755 - binary_accuracy: 0.9786 - val_loss: 0.3404 - val_binary_accuracy: 0.8910\n",
            "Epoch 34/69\n",
            "625/625 [==============================] - 5s 7ms/step - loss: 0.0713 - binary_accuracy: 0.9802 - val_loss: 0.3481 - val_binary_accuracy: 0.8909\n",
            "Epoch 35/69\n",
            "625/625 [==============================] - 5s 7ms/step - loss: 0.0686 - binary_accuracy: 0.9816 - val_loss: 0.3550 - val_binary_accuracy: 0.8907\n",
            "Epoch 36/69\n",
            "625/625 [==============================] - 4s 7ms/step - loss: 0.0652 - binary_accuracy: 0.9835 - val_loss: 0.3625 - val_binary_accuracy: 0.8904\n",
            "Epoch 37/69\n",
            "625/625 [==============================] - 5s 8ms/step - loss: 0.0616 - binary_accuracy: 0.9850 - val_loss: 0.3717 - val_binary_accuracy: 0.8885\n",
            "Epoch 38/69\n",
            "625/625 [==============================] - 5s 7ms/step - loss: 0.0600 - binary_accuracy: 0.9852 - val_loss: 0.3809 - val_binary_accuracy: 0.8891\n",
            "Epoch 39/69\n",
            "625/625 [==============================] - 4s 7ms/step - loss: 0.0570 - binary_accuracy: 0.9865 - val_loss: 0.3886 - val_binary_accuracy: 0.8899\n",
            "Epoch 40/69\n",
            "625/625 [==============================] - 5s 7ms/step - loss: 0.0545 - binary_accuracy: 0.9866 - val_loss: 0.3958 - val_binary_accuracy: 0.8896\n",
            "Epoch 41/69\n",
            "625/625 [==============================] - 4s 7ms/step - loss: 0.0505 - binary_accuracy: 0.9878 - val_loss: 0.4044 - val_binary_accuracy: 0.8893\n",
            "Epoch 42/69\n",
            "625/625 [==============================] - 5s 7ms/step - loss: 0.0488 - binary_accuracy: 0.9880 - val_loss: 0.4130 - val_binary_accuracy: 0.8890\n",
            "Epoch 43/69\n",
            "625/625 [==============================] - 4s 7ms/step - loss: 0.0464 - binary_accuracy: 0.9900 - val_loss: 0.4247 - val_binary_accuracy: 0.8878\n",
            "Epoch 44/69\n",
            "625/625 [==============================] - 4s 7ms/step - loss: 0.0449 - binary_accuracy: 0.9900 - val_loss: 0.4344 - val_binary_accuracy: 0.8880\n",
            "Epoch 45/69\n",
            "625/625 [==============================] - 4s 7ms/step - loss: 0.0428 - binary_accuracy: 0.9906 - val_loss: 0.4418 - val_binary_accuracy: 0.8878\n",
            "Epoch 46/69\n",
            "625/625 [==============================] - 4s 7ms/step - loss: 0.0419 - binary_accuracy: 0.9906 - val_loss: 0.4502 - val_binary_accuracy: 0.8862\n",
            "Epoch 47/69\n",
            "625/625 [==============================] - 4s 7ms/step - loss: 0.0388 - binary_accuracy: 0.9918 - val_loss: 0.4592 - val_binary_accuracy: 0.8867\n",
            "Epoch 48/69\n",
            "625/625 [==============================] - 4s 7ms/step - loss: 0.0369 - binary_accuracy: 0.9920 - val_loss: 0.4697 - val_binary_accuracy: 0.8858\n",
            "Epoch 49/69\n",
            "625/625 [==============================] - 4s 7ms/step - loss: 0.0351 - binary_accuracy: 0.9930 - val_loss: 0.4796 - val_binary_accuracy: 0.8851\n",
            "Epoch 50/69\n",
            "625/625 [==============================] - 4s 7ms/step - loss: 0.0331 - binary_accuracy: 0.9934 - val_loss: 0.4893 - val_binary_accuracy: 0.8862\n",
            "Epoch 51/69\n",
            "625/625 [==============================] - 4s 7ms/step - loss: 0.0317 - binary_accuracy: 0.9936 - val_loss: 0.5059 - val_binary_accuracy: 0.8843\n",
            "Epoch 52/69\n",
            "625/625 [==============================] - 4s 7ms/step - loss: 0.0311 - binary_accuracy: 0.9941 - val_loss: 0.5131 - val_binary_accuracy: 0.8848\n",
            "Epoch 53/69\n",
            "625/625 [==============================] - 4s 7ms/step - loss: 0.0297 - binary_accuracy: 0.9942 - val_loss: 0.5235 - val_binary_accuracy: 0.8850\n",
            "Epoch 54/69\n",
            "625/625 [==============================] - 4s 7ms/step - loss: 0.0285 - binary_accuracy: 0.9942 - val_loss: 0.5353 - val_binary_accuracy: 0.8846\n",
            "Epoch 55/69\n",
            "625/625 [==============================] - 4s 7ms/step - loss: 0.0262 - binary_accuracy: 0.9954 - val_loss: 0.5445 - val_binary_accuracy: 0.8838\n",
            "Epoch 56/69\n",
            "625/625 [==============================] - 5s 7ms/step - loss: 0.0251 - binary_accuracy: 0.9945 - val_loss: 0.5580 - val_binary_accuracy: 0.8837\n",
            "Epoch 57/69\n",
            "625/625 [==============================] - 5s 8ms/step - loss: 0.0242 - binary_accuracy: 0.9956 - val_loss: 0.5652 - val_binary_accuracy: 0.8840\n",
            "Epoch 58/69\n",
            "625/625 [==============================] - 5s 7ms/step - loss: 0.0221 - binary_accuracy: 0.9962 - val_loss: 0.5762 - val_binary_accuracy: 0.8840\n",
            "Epoch 59/69\n",
            "625/625 [==============================] - 5s 7ms/step - loss: 0.0218 - binary_accuracy: 0.9963 - val_loss: 0.5845 - val_binary_accuracy: 0.8840\n",
            "Epoch 60/69\n",
            "625/625 [==============================] - 5s 7ms/step - loss: 0.0209 - binary_accuracy: 0.9969 - val_loss: 0.5967 - val_binary_accuracy: 0.8826\n",
            "Epoch 61/69\n",
            "625/625 [==============================] - 5s 7ms/step - loss: 0.0205 - binary_accuracy: 0.9964 - val_loss: 0.6131 - val_binary_accuracy: 0.8826\n",
            "Epoch 62/69\n",
            "625/625 [==============================] - 5s 7ms/step - loss: 0.0188 - binary_accuracy: 0.9969 - val_loss: 0.6187 - val_binary_accuracy: 0.8826\n",
            "Epoch 63/69\n",
            "625/625 [==============================] - 5s 8ms/step - loss: 0.0189 - binary_accuracy: 0.9967 - val_loss: 0.6315 - val_binary_accuracy: 0.8826\n",
            "Epoch 64/69\n",
            "625/625 [==============================] - 5s 7ms/step - loss: 0.0180 - binary_accuracy: 0.9970 - val_loss: 0.6438 - val_binary_accuracy: 0.8802\n",
            "Epoch 65/69\n",
            "625/625 [==============================] - 5s 7ms/step - loss: 0.0169 - binary_accuracy: 0.9977 - val_loss: 0.6557 - val_binary_accuracy: 0.8798\n",
            "Epoch 66/69\n",
            "625/625 [==============================] - 4s 7ms/step - loss: 0.0155 - binary_accuracy: 0.9977 - val_loss: 0.6697 - val_binary_accuracy: 0.8798\n",
            "Epoch 67/69\n",
            "625/625 [==============================] - 5s 7ms/step - loss: 0.0148 - binary_accuracy: 0.9979 - val_loss: 0.6849 - val_binary_accuracy: 0.8784\n",
            "Epoch 68/69\n",
            "625/625 [==============================] - 5s 8ms/step - loss: 0.0141 - binary_accuracy: 0.9981 - val_loss: 0.6933 - val_binary_accuracy: 0.8784\n",
            "Epoch 69/69\n",
            "625/625 [==============================] - 5s 7ms/step - loss: 0.0135 - binary_accuracy: 0.9983 - val_loss: 0.7088 - val_binary_accuracy: 0.8794\n"
          ]
        }
      ]
    },
    {
      "cell_type": "markdown",
      "metadata": {
        "id": "ixBTD5VvWMe5"
      },
      "source": [
        "**Evaluate Model**"
      ]
    },
    {
      "cell_type": "code",
      "metadata": {
        "colab": {
          "base_uri": "https://localhost:8080/"
        },
        "id": "vwBPkqVOVaCf",
        "outputId": "85f0fa93-ccca-4ce5-bbd9-fd1b06854c8a"
      },
      "source": [
        "loss, accuracy = model.evaluate(test_ds)\n",
        "\n",
        "print(\"Loss: \", loss)\n",
        "print(\"Accuracy: \", accuracy)"
      ],
      "execution_count": 27,
      "outputs": [
        {
          "output_type": "stream",
          "name": "stdout",
          "text": [
            "782/782 [==============================] - 9s 11ms/step - loss: 0.9976 - binary_accuracy: 0.8325\n",
            "Loss:  0.9975864291191101\n",
            "Accuracy:  0.8324800133705139\n"
          ]
        }
      ]
    },
    {
      "cell_type": "code",
      "metadata": {
        "colab": {
          "base_uri": "https://localhost:8080/"
        },
        "id": "fQwF8umKWPUt",
        "outputId": "0e242b92-1d4d-4fcd-9927-25e46efa1878"
      },
      "source": [
        "history_dict = history.history\n",
        "history_dict.keys()"
      ],
      "execution_count": 28,
      "outputs": [
        {
          "output_type": "execute_result",
          "data": {
            "text/plain": [
              "dict_keys(['loss', 'binary_accuracy', 'val_loss', 'val_binary_accuracy'])"
            ]
          },
          "metadata": {},
          "execution_count": 28
        }
      ]
    },
    {
      "cell_type": "code",
      "metadata": {
        "colab": {
          "base_uri": "https://localhost:8080/",
          "height": 295
        },
        "id": "jGk67NEwWR4J",
        "outputId": "e73c132f-ebd5-45e0-9611-2682962d1409"
      },
      "source": [
        "acc = history_dict['binary_accuracy']\n",
        "val_acc = history_dict['val_binary_accuracy']\n",
        "loss = history_dict['loss']\n",
        "val_loss = history_dict['val_loss']\n",
        "\n",
        "epochs = range(1, len(acc) + 1)\n",
        "\n",
        "# \"bo\" is for \"blue dot\"\n",
        "plt.plot(epochs, loss, 'bo', label='Training loss')\n",
        "# b is for \"solid blue line\"\n",
        "plt.plot(epochs, val_loss, 'b', label='Validation loss')\n",
        "plt.title('Training and validation loss')\n",
        "plt.xlabel('Epochs')\n",
        "plt.ylabel('Loss')\n",
        "plt.legend()\n",
        "\n",
        "plt.show()"
      ],
      "execution_count": 29,
      "outputs": [
        {
          "output_type": "display_data",
          "data": {
            "image/png": "[encoded data removed]",
            "text/plain": [
              "<Figure size 432x288 with 1 Axes>"
            ]
          },
          "metadata": {
            "needs_background": "light"
          }
        }
      ]
    },
    {
      "cell_type": "code",
      "metadata": {
        "colab": {
          "base_uri": "https://localhost:8080/",
          "height": 295
        },
        "id": "500trbJ2WTmh",
        "outputId": "9e8424ea-253c-4959-bd16-03126b446a92"
      },
      "source": [
        "plt.plot(epochs, acc, 'bo', label='Training acc')\n",
        "plt.plot(epochs, val_acc, 'b', label='Validation acc')\n",
        "plt.title('Training and validation accuracy')\n",
        "plt.xlabel('Epochs')\n",
        "plt.ylabel('Accuracy')\n",
        "plt.legend(loc='lower right')\n",
        "\n",
        "plt.show()"
      ],
      "execution_count": 30,
      "outputs": [
        {
          "output_type": "display_data",
          "data": {
            "image/png": "[encoded data removed]",
            "text/plain": [
              "<Figure size 432x288 with 1 Axes>"
            ]
          },
          "metadata": {
            "needs_background": "light"
          }
        }
      ]
    },
    {
      "cell_type": "markdown",
      "metadata": {
        "id": "1CPD2NiQW48p"
      },
      "source": [
        "**Export Model**"
      ]
    },
    {
      "cell_type": "code",
      "metadata": {
        "colab": {
          "base_uri": "https://localhost:8080/"
        },
        "id": "QJRdVIC_W6Xn",
        "outputId": "dd85eee6-027f-4815-fdd2-d674c4b608a3"
      },
      "source": [
        "export_model = tf.keras.Sequential([\n",
        "  vectorize_layer,\n",
        "  model,\n",
        "  layers.Activation('sigmoid')\n",
        "])\n",
        "\n",
        "export_model.compile(\n",
        "    loss=losses.BinaryCrossentropy(from_logits=False), optimizer=\"adam\", metrics=['accuracy']\n",
        ")\n",
        "\n",
        "# Test it with `raw_test_ds`, which yields raw strings\n",
        "loss, accuracy = export_model.evaluate(raw_test_ds)\n",
        "print(accuracy)"
      ],
      "execution_count": 31,
      "outputs": [
        {
          "output_type": "stream",
          "name": "stdout",
          "text": [
            "782/782 [==============================] - 9s 11ms/step - loss: 0.9976 - accuracy: 0.8325\n",
            "0.8324800133705139\n"
          ]
        }
      ]
    },
    {
      "cell_type": "code",
      "metadata": {
        "colab": {
          "base_uri": "https://localhost:8080/"
        },
        "id": "QjxxCOaOW6kv",
        "outputId": "53191d5c-2c10-40ac-c740-58ef8d568373"
      },
      "source": [
        "examples = [\n",
        "  \"The movie was great!\",\n",
        "  \"The movie was okay.\",\n",
        "  \"The movie was terrible...\"\n",
        "]\n",
        "\n",
        "export_model.predict(examples)"
      ],
      "execution_count": 32,
      "outputs": [
        {
          "output_type": "execute_result",
          "data": {
            "text/plain": [
              "array([[0.77301455],\n",
              "       [0.309153  ],\n",
              "       [0.11862704]], dtype=float32)"
            ]
          },
          "metadata": {},
          "execution_count": 32
        }
      ]
    },
    {
      "cell_type": "code",
      "metadata": {
        "id": "wR95vRNnW-zl"
      },
      "source": [
        "# MIT License\n",
        "#\n",
        "# Copyright (c) 2017 François Chollet\n",
        "#\n",
        "# Permission is hereby granted, free of charge, to any person obtaining a\n",
        "# copy of this software and associated documentation files (the \"Software\"),\n",
        "# to deal in the Software without restriction, including without limitation\n",
        "# the rights to use, copy, modify, merge, publish, distribute, sublicense,\n",
        "# and/or sell copies of the Software, and to permit persons to whom the\n",
        "# Software is furnished to do so, subject to the following conditions:\n",
        "#\n",
        "# The above copyright notice and this permission notice shall be included in\n",
        "# all copies or substantial portions of the Software.\n",
        "#\n",
        "# THE SOFTWARE IS PROVIDED \"AS IS\", WITHOUT WARRANTY OF ANY KIND, EXPRESS OR\n",
        "# IMPLIED, INCLUDING BUT NOT LIMITED TO THE WARRANTIES OF MERCHANTABILITY,\n",
        "# FITNESS FOR A PARTICULAR PURPOSE AND NONINFRINGEMENT. IN NO EVENT SHALL\n",
        "# THE AUTHORS OR COPYRIGHT HOLDERS BE LIABLE FOR ANY CLAIM, DAMAGES OR OTHER\n",
        "# LIABILITY, WHETHER IN AN ACTION OF CONTRACT, TORT OR OTHERWISE, ARISING\n",
        "# FROM, OUT OF OR IN CONNECTION WITH THE SOFTWARE OR THE USE OR OTHER\n",
        "# DEALINGS IN THE SOFTWARE."
      ],
      "execution_count": 33,
      "outputs": []
    }
  ]
}